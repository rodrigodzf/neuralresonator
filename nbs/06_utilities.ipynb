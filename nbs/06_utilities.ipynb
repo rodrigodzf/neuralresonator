{
 "cells": [
  {
   "attachments": {},
   "cell_type": "markdown",
   "metadata": {},
   "source": [
    "# Utilities\n",
    "\n",
    "> A collection of utility functions."
   ]
  },
  {
   "cell_type": "code",
   "execution_count": null,
   "metadata": {},
   "outputs": [],
   "source": [
    "# | default_exp utilities"
   ]
  },
  {
   "cell_type": "code",
   "execution_count": null,
   "metadata": {},
   "outputs": [],
   "source": [
    "# | export\n",
    "\n",
    "from pathlib import Path\n",
    "from typing import Optional\n",
    "\n",
    "import IPython.display as ipd\n",
    "import matplotlib.pyplot as plt\n",
    "import numpy as np\n",
    "import soundfile as sf\n",
    "import torch\n",
    "import torchaudio\n",
    "from matplotlib.figure import Figure\n",
    "\n",
    "from neuralresonator.dsp import apply_filter"
   ]
  },
  {
   "attachments": {},
   "cell_type": "markdown",
   "metadata": {},
   "source": [
    "## Plotting"
   ]
  },
  {
   "cell_type": "code",
   "execution_count": null,
   "metadata": {},
   "outputs": [],
   "source": [
    "# | export\n",
    "\n",
    "def db20(x: np.ndarray) -> np.ndarray:\n",
    "    return 20 * np.log10(np.abs(x))\n",
    "\n",
    "def plot_sample(\n",
    "    a: np.ndarray,\n",
    "    b: np.ndarray,\n",
    "    gt_audio: np.ndarray,\n",
    "    sample_rate: int = 16000,\n",
    "    plt_ioff: bool = True,\n",
    ") -> tuple[Figure, np.ndarray]:\n",
    "    \"\"\"Plot a sample from the model.\"\"\"\n",
    "\n",
    "    impulse = np.zeros_like(gt_audio)\n",
    "    impulse[0] = 1.0\n",
    "\n",
    "    pred_signal = apply_filter(impulse, a, b)\n",
    "\n",
    "    pred_fft = np.fft.rfft(pred_signal, norm=\"forward\")\n",
    "    gt_fft = np.fft.rfft(gt_audio, norm=\"forward\")\n",
    "\n",
    "    plt.ioff() if plt_ioff else plt.ion()\n",
    "    fig = plt.figure(figsize=(6, 3))\n",
    "    plt.plot(db20(gt_fft), label=\"Ground Truth\")\n",
    "    plt.plot(db20(pred_fft), label=\"Predicted\")\n",
    "    plt.grid()\n",
    "    plt.legend(prop={\"size\": 6}, loc=\"upper right\")\n",
    "    plt.tight_layout()\n",
    "    plt.close(fig)\n",
    "\n",
    "    return fig, pred_signal"
   ]
  },
  {
   "attachments": {},
   "cell_type": "markdown",
   "metadata": {},
   "source": [
    "Plot a dummy image"
   ]
  },
  {
   "cell_type": "code",
   "execution_count": null,
   "metadata": {},
   "outputs": [
    {
     "name": "stdout",
     "output_type": "stream",
     "text": [
      "(1, 1, 3) (1, 1, 3)\n"
     ]
    },
    {
     "data": {
      "text/plain": [
       "(<Figure size 600x300 with 1 Axes>,\n",
       " array([ 1.e+000, -7.e-001, -1.e-001, ..., -5.e-324, -5.e-324, -5.e-324]))"
      ]
     },
     "execution_count": null,
     "metadata": {},
     "output_type": "execute_result"
    }
   ],
   "source": [
    "# | eval: false\n",
    "\n",
    "b = np.array([[[1.0, -1.60,  0.80]]])\n",
    "a = np.array([[[1.0, -0.90,  0.27]]])\n",
    "\n",
    "print(a.shape, b.shape)\n",
    "impulse = np.zeros(int(0.3 * 16000))\n",
    "impulse[0] = 1.0\n",
    "\n",
    "gt_audio = np.random.randn(int(0.3 * 16000) + 1)\n",
    "\n",
    "fig = plot_sample(a, b, gt_audio)\n",
    "fig"
   ]
  },
  {
   "cell_type": "code",
   "execution_count": null,
   "metadata": {},
   "outputs": [],
   "source": [
    "# | export\n",
    "\n",
    "def save_and_display_audio(\n",
    "    audio: np.ndarray,\n",
    "    name: str,\n",
    "    sample_rate: int = 44100,\n",
    "):\n",
    "    \"Save audio file and display in a Jupyter notebook.\"\n",
    "\n",
    "    audio_dir = Path(\"audio\")\n",
    "    audio_dir.mkdir(exist_ok=True)\n",
    "\n",
    "    out_file = audio_dir / name\n",
    "\n",
    "    sf.write(\n",
    "        file=out_file,\n",
    "        samplerate=sample_rate,\n",
    "        data=audio.astype(np.float32),\n",
    "    )\n",
    "    ipd.display(ipd.Audio(out_file))\n"
   ]
  },
  {
   "cell_type": "code",
   "execution_count": null,
   "metadata": {},
   "outputs": [
    {
     "data": {
      "text/html": [
       "\n",
       "                <audio  controls=\"controls\" >\n",
       "                    <source src=\"data:audio/x-wav;base64,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\" type=\"audio/x-wav\" />\n",
       "                    Your browser does not support the audio element.\n",
       "                </audio>\n",
       "              "
      ],
      "text/plain": [
       "<IPython.lib.display.Audio object>"
      ]
     },
     "metadata": {},
     "output_type": "display_data"
    }
   ],
   "source": [
    "# | eval: false\n",
    "\n",
    "save_and_display_audio(gt_audio, \"gt_audio.wav\")"
   ]
  },
  {
   "attachments": {},
   "cell_type": "markdown",
   "metadata": {},
   "source": [
    "## Losses"
   ]
  },
  {
   "cell_type": "code",
   "execution_count": null,
   "metadata": {},
   "outputs": [],
   "source": [
    "# | export\n",
    "\n",
    "\n",
    "def fft_loss(\n",
    "    pred_fft: torch.Tensor,  # magnitude of the predicted fft\n",
    "    target_fft: torch.Tensor,  # magnitude of the target fft\n",
    "    lin_l1: float = 1.0,  # weight of the linear l1 loss\n",
    "    lin_l2: float = 0.0,  # weight of the linear l2 loss\n",
    "    log_l1: float = 0.0,  # weight of the log l1 loss\n",
    "    log_l2: float = 0.0,  # weight of the log l2 loss\n",
    ") -> torch.Tensor:  # scalar loss\n",
    "    \"\"\"\n",
    "    Compute the loss between the target and predicted fft\n",
    "    \"\"\"\n",
    "    diff = pred_fft - target_fft\n",
    "    log_diff = torch.log(pred_fft + 1e-7) - torch.log(target_fft + 1e-7)\n",
    "    return (\n",
    "        diff.abs().mean() * lin_l1\n",
    "        + diff.pow(2).mean() * lin_l2\n",
    "        + log_diff.abs().mean() * log_l1\n",
    "        + log_diff.pow(2).mean() * log_l2\n",
    "    )\n"
   ]
  },
  {
   "cell_type": "code",
   "execution_count": null,
   "metadata": {},
   "outputs": [],
   "source": [
    "# | export\n",
    "\n",
    "class FFTLoss(torch.nn.Module):\n",
    "    \"\"\"\n",
    "    Compute the loss between the target and predicted fft\n",
    "    \"\"\"\n",
    "    def __init__(\n",
    "        self,\n",
    "        lin_l1: float = 1.0, # weight of the linear l1 loss\n",
    "        lin_l2: float = 0.0, # weight of the linear l2 loss\n",
    "        log_l1: float = 0.0, # weight of the log l1 loss\n",
    "        log_l2: float = 0.0, # weight of the log l2 loss\n",
    "    ):\n",
    "        super().__init__()\n",
    "        self.lin_l1 = lin_l1\n",
    "        self.lin_l2 = lin_l2\n",
    "        self.log_l1 = log_l1\n",
    "        self.log_l2 = log_l2\n",
    "\n",
    "    def forward(\n",
    "        self,\n",
    "        pred_fft: torch.Tensor,   # magnitude of the predicted fft\n",
    "        target_fft: torch.Tensor, # magnitude of the target fft\n",
    "    ):\n",
    "        return fft_loss(\n",
    "            pred_fft,\n",
    "            target_fft,\n",
    "            self.lin_l1,\n",
    "            self.lin_l2,\n",
    "            self.log_l1,\n",
    "            self.log_l2,\n",
    "        )"
   ]
  },
  {
   "cell_type": "code",
   "execution_count": null,
   "metadata": {},
   "outputs": [],
   "source": [
    "# | export\n",
    "\n",
    "class MelScaleLoss(torch.nn.Module):\n",
    "    \"\"\"\n",
    "    Compute the loss between the target and predicted mel scale\n",
    "    \"\"\"\n",
    "    def __init__(\n",
    "        self,\n",
    "        n_mels: int = 128,\n",
    "        sample_rate: int = 16000,\n",
    "        n_fft: int = 0,\n",
    "        lin_l1: float = 1.0, # weight of the linear l1 loss\n",
    "        lin_l2: float = 0.0, # weight of the linear l2 loss\n",
    "        log_l1: float = 0.0, # weight of the log l1 loss\n",
    "        log_l2: float = 0.0, # weight of the log l2 loss\n",
    "        f_min: float = 0.,\n",
    "        f_max: Optional[float] = 8000.,\n",
    "    ) -> None:\n",
    "\n",
    "        super().__init__()\n",
    "        self.n_mels = n_mels\n",
    "        self.sample_rate = sample_rate\n",
    "        self.f_max = f_max if f_max is not None else float(sample_rate // 2)\n",
    "        self.f_min = f_min\n",
    "\n",
    "        self.lin_l1 = lin_l1\n",
    "        self.lin_l2 = lin_l2\n",
    "        self.log_l1 = log_l1\n",
    "        self.log_l2 = log_l2\n",
    "\n",
    "\n",
    "        assert f_min <= self.f_max, 'Require f_min: {} < f_max: {}'.format(f_min, self.f_max)\n",
    "\n",
    "        fb = torchaudio.functional.melscale_fbanks(\n",
    "            n_fft,\n",
    "            n_mels=self.n_mels,\n",
    "            f_min=self.f_min,\n",
    "            f_max=self.f_max,\n",
    "            sample_rate=self.sample_rate,\n",
    "        )\n",
    "        self.register_buffer('fb', fb)\n",
    "\n",
    "    def forward(\n",
    "        self,\n",
    "        pred: torch.Tensor,   # magnitude of the predicted fft\n",
    "        target: torch.Tensor, # magnitude of the target fft\n",
    "    ) -> torch.Tensor:\n",
    "        \"\"\"\n",
    "        Compute the loss between the target and predicted mel scale\n",
    "        \"\"\"\n",
    "        pred_mel = torch.matmul(pred, self.fb)\n",
    "        target_mel = torch.matmul(target, self.fb)\n",
    "        return fft_loss(\n",
    "            pred_mel,\n",
    "            target_mel,\n",
    "            lin_l1=self.lin_l1,\n",
    "            lin_l2=self.lin_l2,\n",
    "            log_l1=self.log_l1,\n",
    "            log_l2=self.log_l2,\n",
    "        )\n"
   ]
  },
  {
   "attachments": {},
   "cell_type": "markdown",
   "metadata": {},
   "source": [
    "## Other"
   ]
  },
  {
   "cell_type": "code",
   "execution_count": null,
   "metadata": {},
   "outputs": [],
   "source": [
    "# | export\n",
    "\n",
    "def to_zpk(\n",
    "    x: torch.Tensor,\n",
    "    n_parallel: int,\n",
    "    n_biquads: int,\n",
    "    gain_factor: float = 1.0,\n",
    ") -> tuple[torch.Tensor, torch.Tensor, torch.Tensor]:\n",
    "    \"\"\"\n",
    "    Convert the parameters of the filter to zeros, poles and gain\n",
    "\n",
    "    Input:\n",
    "        x: (B, n_parallel, n_biquads, 5)\n",
    "    Output:\n",
    "        z: (B, n_parallel, n_biquads)\n",
    "        p: (B, n_parallel, n_biquads)\n",
    "        k: (B, n_parallel, n_biquads)\n",
    "    \"\"\"\n",
    "\n",
    "    B = x.shape[0]\n",
    "    sos = x.view(B, n_parallel, n_biquads, 5)\n",
    "    gain = torch.sigmoid(sos[:, :, :, 0])\n",
    "    zeros = sos[:, :, :, 1:3]\n",
    "    poles = sos[:, :, :, 3:5]\n",
    "\n",
    "    p = torch.complex(poles[:, :, :, 0], poles[:, :, :, 1])\n",
    "    z = torch.complex(zeros[:, :, :, 0], zeros[:, :, :, 1])\n",
    "    k = gain_factor * gain\n",
    "    return z, p, k"
   ]
  }
 ],
 "metadata": {
  "kernelspec": {
   "display_name": "python3",
   "language": "python",
   "name": "python3"
  }
 },
 "nbformat": 4,
 "nbformat_minor": 2
}
