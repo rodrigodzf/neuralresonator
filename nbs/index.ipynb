{
 "cells": [
  {
   "attachments": {},
   "cell_type": "markdown",
   "metadata": {},
   "source": [
    "<div  align=\"center\">\n",
    "\n",
    "<h1>Neural Resonator</h1>\n",
    "\n",
    "> Rigid-Body Sound Synthesis with Differentiable Modal Resonators\n",
    "\n",
    "![GitHub](https://img.shields.io/github/license/rodrigodzf/NeuralResonator)\n",
    "[![arXiv](https://img.shields.io/badge/arXiv-2210.15306-b31b1b.svg)](https://arxiv.org/abs/2210.15306)\n",
    "\n",
    "</div>"
   ]
  },
  {
   "attachments": {},
   "cell_type": "markdown",
   "metadata": {},
   "source": [
    "## About\n",
    "\n",
    "This is the code for the paper [Rigid-Body Sound Synthesis with Differentiable Modal Resonators](https://arxiv.org/abs/2210.15306). It contains the implementation of the differentiable modal resonator networks, as well as the code to train them and generate the audio samples used in the paper.\n"
   ]
  },
  {
   "attachments": {},
   "cell_type": "markdown",
   "metadata": {},
   "source": [
    "## Install\n",
    "\n",
    "To install the package, run the following command:\n",
    "\n",
    "```sh\n",
    "pip install -e '.[dev]'\n",
    "```"
   ]
  },
  {
   "attachments": {},
   "cell_type": "markdown",
   "metadata": {},
   "source": [
    "## Train\n",
    "\n",
    "For a quicker preview of the training process, please refer to this [notebook](../examples/fit_to_arbitrary_shapes.ipynb).\n",
    "\n",
    "In order to train the network first we need to generate the dataset. Training the network requires large dataset the generation and the training might take up to a day to complete. To do so, run the following command (adjusting the number of shapes and materials to generate):\n",
    "\n",
    "```sh\n",
    "generate_dataset \\\n",
    "n_train_shapes=500 \\\n",
    "n_val_shapes=20 \\\n",
    "n_test_shapes=20 \\\n",
    "n_train_materials=500 \\\n",
    "n_val_materials=20 \\\n",
    "n_test_materials=20 \\\n",
    "++paths.data_dir=./data\n",
    "```\n",
    "\n",
    "To train the network, run the following command:\n",
    "\n",
    "```sh\n",
    "train \\\n",
    "++datamodule.sample_rate=32000 \\\n",
    "++datamodule.batch_size=64 \\\n",
    "++datamodule.num_workers=8 \\\n",
    "++datamodule.train_index_map_path=./data/materials_shapes_train/index_map.csv \\\n",
    "++datamodule.val_index_map_path=./data/materials_shapes_val/index_map.csv \\\n",
    "++datamodule.test_index_map_path=./data/materials_shapes_val/index_map.csv \\\n",
    "seed=3407\n",
    "```"
   ]
  }
 ],
 "metadata": {
  "kernelspec": {
   "display_name": "python3",
   "language": "python",
   "name": "python3"
  }
 },
 "nbformat": 4,
 "nbformat_minor": 4
}
