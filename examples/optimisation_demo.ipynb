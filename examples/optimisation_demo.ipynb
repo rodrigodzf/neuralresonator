{
 "cells": [
  {
   "attachments": {},
   "cell_type": "markdown",
   "metadata": {},
   "source": [
    "# IIR Optimisation Example\n",
    "\n",
    "Dinding IIR filter parameters by gradient descent"
   ]
  },
  {
   "cell_type": "code",
   "execution_count": null,
   "metadata": {},
   "outputs": [],
   "source": [
    "import math\n",
    "\n",
    "import IPython.display as ipd\n",
    "import matplotlib.pyplot as plt\n",
    "import torch\n",
    "from torch import nn\n",
    "import torch.nn.functional as F\n",
    "\n",
    "from neuralresonator.dsp import IIRMethod, IIRParameters, apply_iir\n",
    "from neuralresonator.modal import render_modes, Material, MATERIALS, System\n",
    "from neuralresonator.utilities import save_and_display_audio\n"
   ]
  },
  {
   "cell_type": "markdown",
   "metadata": {},
   "source": [
    "We begin by creating our target signal, here a 0.3 second long sample from a synthetically\n",
    "excited glass surface."
   ]
  },
  {
   "cell_type": "code",
   "execution_count": null,
   "metadata": {},
   "outputs": [],
   "source": [
    "T = 0.3\n",
    "f_s = 24000\n",
    "N = int(T * f_s)\n",
    "\n",
    "num_modes = 128\n",
    "\n",
    "m = MATERIALS[\"ceramic\"]\n",
    "s = System(m)\n",
    "\n",
    "target_freqs = torch.from_numpy(s.damped_frequencies[:num_modes])\n",
    "target_amplitudes = torch.from_numpy(s.get_mode_gains(100)[:num_modes])\n",
    "target_decays = torch.from_numpy(s.damping_coefficients[:num_modes])\n",
    "\n",
    "target_signal = torch.from_numpy(s.render(T, f_s, truncate_modes=num_modes)).float()\n",
    "plt.plot(target_signal)"
   ]
  },
  {
   "cell_type": "code",
   "execution_count": null,
   "metadata": {},
   "outputs": [],
   "source": [
    "save_and_display_audio(target_signal.numpy(), \"target_signal.wav\", int(f_s))"
   ]
  },
  {
   "cell_type": "markdown",
   "metadata": {},
   "source": [
    "We define a simple FFT loss function:"
   ]
  },
  {
   "cell_type": "code",
   "execution_count": null,
   "metadata": {},
   "outputs": [],
   "source": [
    "def fft_loss(\n",
    "    pred_signal,\n",
    "    target_signal,\n",
    "    pred_is_fft: bool = False,\n",
    "    lin_l1: float = 1.0,\n",
    "    lin_l2: float = 0.0,\n",
    "    log_l1: float = 0.0,\n",
    "    log_l2: float = 0.0,\n",
    "):\n",
    "    pred_fft = (\n",
    "        torch.fft.rfft(pred_signal).abs() if not pred_is_fft else pred_signal.abs()\n",
    "    )\n",
    "    target_fft = torch.fft.rfft(target_signal).abs()\n",
    "\n",
    "    pred_fft = pred_fft  # / math.sqrt(pred_fft.shape[-1])\n",
    "    target_fft = target_fft  # / math.sqrt(target_fft.shape[-1])\n",
    "\n",
    "    return (\n",
    "        (pred_fft - target_fft).abs().mean() * lin_l1\n",
    "        + (pred_fft - target_fft).pow(2).mean() * lin_l2\n",
    "        + (torch.log(pred_fft + 1e-7) - torch.log(target_fft + 1e-7)).abs().mean()\n",
    "        * log_l1\n",
    "        + (torch.log(pred_fft + 1e-7) - torch.log(target_fft + 1e-7)).pow(2).mean()\n",
    "        * log_l2\n",
    "    )"
   ]
  },
  {
   "cell_type": "markdown",
   "metadata": {},
   "source": [
    "Next we randomly generate some parameters for our hybrid filter bank. We will be optimising\n",
    "these to match the modes of our target signal."
   ]
  },
  {
   "cell_type": "code",
   "execution_count": null,
   "metadata": {},
   "outputs": [],
   "source": [
    "n_parallel = 16\n",
    "n_biquads = 8\n",
    "\n",
    "poles = torch.atanh(0.999 * torch.ones(n_parallel, n_biquads)) * torch.exp(1j * torch.rand(n_parallel, n_biquads) * math.pi)\n",
    "zeros = 0.0 * torch.rand(n_parallel, n_biquads) * torch.exp(1j * torch.rand(n_parallel, n_biquads) * math.pi)\n",
    "# poles = torch.randn(n_parallel, n_biquads) + 1j * torch.randn(n_parallel, n_biquads)\n",
    "# zeros = torch.randn(n_parallel, n_biquads) + 1j * torch.randn(n_parallel, n_biquads)\n",
    "\n",
    "gains = torch.ones(n_parallel, n_biquads) #/ (n_parallel ** (1 / n_biquads))\n",
    "gains = gains / (gains.sum())\n",
    "\n",
    "poles.requires_grad_(True)\n",
    "zeros.requires_grad_(True)\n",
    "gains.requires_grad_(True)\n",
    "\n",
    "IIRParameters(poles=poles.detach(), zeros=zeros.detach(), gains=gains.detach(), constrain_zeros=False).pole_zero_plot()"
   ]
  },
  {
   "cell_type": "markdown",
   "metadata": {},
   "source": [
    "Finally, we run an optimisation loop and find that the differentiable IIR filter bank is\n",
    "able to fit the target signal very closely. Note that we optimise the approximate frequency\n",
    "response using the `freqz` method of the `IIRParameters` class, but are able to synthesise\n",
    "the signal and visualise the empirical frequency response by pinging the recursive implementation with an impulse."
   ]
  },
  {
   "cell_type": "code",
   "execution_count": null,
   "metadata": {},
   "outputs": [],
   "source": [
    "from neuralresonator.dsp import biquad_freqz, constrain_complex_pole_or_zero, pole_or_zero_to_iir_coeff\n",
    "\n",
    "steps = 10000\n",
    "lr = 1e-3\n",
    "\n",
    "impulse = torch.zeros(N)\n",
    "impulse[0] = 1.0\n",
    "\n",
    "optimizer = torch.optim.AdamW([poles, zeros, gains], lr=lr)\n",
    "scheduler = torch.optim.lr_scheduler.ReduceLROnPlateau(\n",
    "    optimizer, factor=0.5, patience=2500, verbose=True\n",
    ")\n",
    "\n",
    "for step in range(steps):\n",
    "    b = pole_or_zero_to_iir_coeff(zeros) * gains[..., None]\n",
    "    a = pole_or_zero_to_iir_coeff(constrain_complex_pole_or_zero(poles, c=1, d=1)) \n",
    "    H = biquad_freqz(b, a, N).prod(dim=-2).sum(dim=-2).abs()\n",
    "\n",
    "    loss = fft_loss(\n",
    "        H,\n",
    "        target_signal,\n",
    "        pred_is_fft=True,\n",
    "        lin_l1=0.0,\n",
    "        lin_l2=1.0,\n",
    "        log_l1=0.0,\n",
    "        log_l2=0.2,\n",
    "    )\n",
    "\n",
    "    optimizer.zero_grad()\n",
    "    loss.backward()\n",
    "    optimizer.step()\n",
    "    scheduler.step(loss)\n",
    "\n",
    "    if step % 50 == 0:\n",
    "        print(f\"Step {step}: {loss.item():.8f}\", end=\"\\r\")\n",
    "\n",
    "    if step % 1000 == 0 or step == steps - 1:\n",
    "        print(f\"Step {step}: {loss.item():.8f}\")\n",
    "        print(f\"Rendering audio and plotting results...\")\n",
    "        with torch.no_grad():\n",
    "            params = IIRParameters(\n",
    "                poles=poles,\n",
    "                zeros=zeros,\n",
    "                gains=gains,\n",
    "                constrain_zeros=False,\n",
    "            )\n",
    "            pred_signal = apply_iir(impulse, params, IIRMethod.TDFII)\n",
    "\n",
    "            print(\"Target\")\n",
    "            save_and_display_audio(\n",
    "                target_signal.numpy(), f\"target_signal_{step}.wav\", int(f_s)\n",
    "            )\n",
    "            print(\"Prediction\")\n",
    "            save_and_display_audio(\n",
    "                pred_signal.detach().cpu().numpy(), f\"pred_signal_{step}.wav\", int(f_s)\n",
    "            )\n",
    "\n",
    "            pred_fft = torch.fft.rfft(pred_signal, norm=\"forward\")\n",
    "            target_fft = torch.fft.rfft(target_signal, norm=\"forward\")\n",
    "\n",
    "            fig, ax = plt.subplots(3, 1, figsize=(12, 8))\n",
    "\n",
    "            ax[0].plot(target_fft.abs().detach().cpu().log10().mul(10))\n",
    "            ax[0].plot(pred_fft.abs().detach().cpu().log10().mul(10))\n",
    "            ax[0].set_title(\"Magnitude\")\n",
    "\n",
    "            ax[1].plot(target_fft.angle().detach().cpu())\n",
    "            ax[1].plot(pred_fft.angle().detach().cpu())\n",
    "            ax[1].set_title(\"Phase\")\n",
    "\n",
    "            ax[2].plot(target_signal.detach().cpu())\n",
    "            ax[2].plot(pred_signal.detach().cpu())\n",
    "            ax[2].set_title(\"Signal\")\n",
    "\n",
    "            params.pole_zero_plot()\n",
    "\n",
    "            plt.show()\n"
   ]
  }
 ],
 "metadata": {
  "kernelspec": {
   "display_name": "Python 3.9.13 ('iir')",
   "language": "python",
   "name": "python3"
  },
  "language_info": {
   "codemirror_mode": {
    "name": "ipython",
    "version": 3
   },
   "file_extension": ".py",
   "mimetype": "text/x-python",
   "name": "python",
   "nbconvert_exporter": "python",
   "pygments_lexer": "ipython3",
   "version": "3.10.10"
  }
 },
 "nbformat": 4,
 "nbformat_minor": 2
}
